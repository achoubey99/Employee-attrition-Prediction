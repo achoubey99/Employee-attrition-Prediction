{
 "cells": [
  {
   "cell_type": "markdown",
   "id": "f2df21ae-e1fc-4415-8285-89d9fa0147ba",
   "metadata": {},
   "source": [
    "# Attrition"
   ]
  },
  {
   "cell_type": "code",
   "execution_count": 2,
   "id": "b4f71191-5d9b-46d6-b476-1348e32a5c5c",
   "metadata": {},
   "outputs": [],
   "source": [
    "#Importing the required modules\n",
    "import pandas as pd\n",
    "import numpy as np\n",
    "import matplotlib.pyplot as plt\n",
    "import seaborn as sns\n",
    "\n",
    "#importing the required sklearn methods\n",
    "from sklearn.preprocessing import LabelEncoder\n",
    "from sklearn.model_selection import train_test_split\n",
    "from sklearn.metrics import accuracy_score, confusion_matrix, classification_report\n",
    "from sklearn.metrics import roc_auc_score\n",
    "\n",
    "%matplotlib inline"
   ]
  },
  {
   "cell_type": "code",
   "execution_count": 3,
   "id": "9d5e18ab",
   "metadata": {},
   "outputs": [],
   "source": [
    "df = pd.read_csv(\"WA_Fn-UseC_-HR-Employee-Attrition.csv\")\n",
    "\n",
    "dec_cols = ['Age', 'Attrition', 'JobLevel', 'JobRole', 'MaritalStatus', 'MonthlyIncome', 'OverTime', 'PercentSalaryHike', 'PerformanceRating', 'TotalWorkingYears', 'WorkLifeBalance', 'YearsInCurrentRole']\n",
    "df = df[dec_cols]\n",
    "\n",
    "categorical_col = []\n",
    "for column in df.columns:\n",
    "    if df[column].dtype == object and len(df[column].unique()) <= 50:\n",
    "        categorical_col.append(column)\n",
    "        \n",
    "df['Attrition'] = df.Attrition.astype(\"category\").cat.codes\n",
    "\n",
    "categorical_col.remove('Attrition')\n",
    "\n",
    "\n",
    "label = LabelEncoder()\n",
    "for column in categorical_col:\n",
    "    df[column] = label.fit_transform(df[column])\n",
    "\n",
    "norm_feature = ['Age', 'MonthlyIncome','PercentSalaryHike', 'TotalWorkingYears', 'YearsInCurrentRole']\n",
    "for feature_name in norm_feature:\n",
    "    max_value = df[feature_name].max()\n",
    "    min_value = df[feature_name].min()\n",
    "    df[feature_name] = (df[feature_name] - min_value) / (max_value - min_value)\n",
    "\n",
    "df = pd.get_dummies(df, columns=categorical_col)"
   ]
  },
  {
   "cell_type": "code",
   "execution_count": 4,
   "id": "1471d119-c138-4a45-a0d9-eb3ddbff1aa5",
   "metadata": {},
   "outputs": [],
   "source": [
    "def print_score(clf, X_train, y_train, X_test, y_test, train=True):\n",
    "    if train:\n",
    "        pred = clf.predict(X_train)\n",
    "        clf_report = pd.DataFrame(classification_report(y_train, pred, output_dict=True))\n",
    "        print(\"Train Result:\\n================================================\")\n",
    "        print(f\"Accuracy Score: {accuracy_score(y_train, pred) * 100:.2f}%\")\n",
    "        print(\"_______________________________________________\")\n",
    "        print(f\"CLASSIFICATION REPORT:\\n{clf_report}\")\n",
    "        print(\"_______________________________________________\")\n",
    "        print(f\"Confusion Matrix: \\n {confusion_matrix(y_train, pred)}\\n\")\n",
    "        \n",
    "    elif train==False:\n",
    "        pred = clf.predict(X_test)\n",
    "        clf_report = pd.DataFrame(classification_report(y_test, pred, output_dict=True))\n",
    "        print(\"Test Result:\\n================================================\")        \n",
    "        print(f\"Accuracy Score: {accuracy_score(y_test, pred) * 100:.2f}%\")\n",
    "        print(\"_______________________________________________\")\n",
    "        print(f\"CLASSIFICATION REPORT:\\n{clf_report}\")\n",
    "        print(\"_______________________________________________\")\n",
    "        print(f\"Confusion Matrix: \\n {confusion_matrix(y_test, pred)}\\n\")"
   ]
  },
  {
   "cell_type": "code",
   "execution_count": 5,
   "id": "2e715cc7-f946-4968-a266-47bd586f4607",
   "metadata": {},
   "outputs": [],
   "source": [
    "X = df.drop('Attrition', axis=1)\n",
    "y = df.Attrition\n",
    "\n",
    "X_train, X_test, y_train, y_test = train_test_split(X, y, test_size=0.25, random_state=42)\n",
    "y_test_list = y_test.tolist()\n"
   ]
  },
  {
   "cell_type": "code",
   "execution_count": 6,
   "id": "5b09f57e-3083-4f63-9a49-c51ea0e805f2",
   "metadata": {},
   "outputs": [
    {
     "name": "stdout",
     "output_type": "stream",
     "text": [
      "Details of the Random Forest classifier using Imbalance dataset\n",
      " ________________\n",
      "Test Result:\n",
      "================================================\n",
      "Accuracy Score: 86.14%\n",
      "_______________________________________________\n",
      "CLASSIFICATION REPORT:\n",
      "                    0          1  accuracy   macro avg  weighted avg\n",
      "precision    0.883191   0.411765  0.861413    0.647478      0.821701\n",
      "recall       0.968750   0.145833  0.861413    0.557292      0.861413\n",
      "f1-score     0.923994   0.215385  0.861413    0.569689      0.831567\n",
      "support    320.000000  48.000000  0.861413  368.000000    368.000000\n",
      "_______________________________________________\n",
      "Confusion Matrix: \n",
      " [[310  10]\n",
      " [ 41   7]]\n",
      "\n",
      "\n",
      "================================================\n",
      "AOC value =  0.5573\n"
     ]
    }
   ],
   "source": [
    "from sklearn.ensemble import RandomForestClassifier\n",
    "\n",
    "rf_clf = RandomForestClassifier(n_estimators=100)\n",
    "rf_clf.fit(X_train, y_train)\n",
    "\n",
    "\n",
    "print(\"Details of the Random Forest classifier using Imbalance dataset\\n ________________\")\n",
    "#print_score(rf_clf, X_train, y_train, X_test, y_test, train=True)\n",
    "print_score(rf_clf, X_train, y_train, X_test, y_test, train=False)\n",
    "\n",
    "y_pred_rf = rf_clf.predict(X_test)\n",
    "y_pred_rf_list = y_pred_rf.tolist()\n",
    "\n",
    "print(\"\\n================================================\")\n",
    "print(\"AOC value = \", (np.round(roc_auc_score(y_test, y_pred_rf_list),4)))"
   ]
  },
  {
   "cell_type": "code",
   "execution_count": 7,
   "id": "02dae09e-aecf-4e97-a5a6-e2a5c071f439",
   "metadata": {},
   "outputs": [],
   "source": [
    "from imblearn.over_sampling import SMOTE\n",
    "sm = SMOTE(sampling_strategy='minority')\n",
    "X = df.drop('Attrition', axis=1)\n",
    "y = df.Attrition\n",
    "X_smote, y_smote = sm.fit_resample(X, y)\n",
    "X_train_bal, X_test_bal, y_train_bal, y_test_bal = train_test_split(X_smote, y_smote, test_size=0.25, random_state=42)\n",
    "y_test_list = y_test.tolist()"
   ]
  },
  {
   "cell_type": "code",
   "execution_count": 8,
   "id": "7cf710d4-f7d5-4eaa-9dd0-fa28497cb312",
   "metadata": {},
   "outputs": [
    {
     "name": "stdout",
     "output_type": "stream",
     "text": [
      "Details of the Random Forest classifier using balance dataset\n",
      " ________________\n",
      "Test Result:\n",
      "================================================\n",
      "Accuracy Score: 88.49%\n",
      "_______________________________________________\n",
      "CLASSIFICATION REPORT:\n",
      "                    0           1  accuracy   macro avg  weighted avg\n",
      "precision    0.877358    0.892977  0.884927    0.885168      0.885104\n",
      "recall       0.897106    0.872549  0.884927    0.884828      0.884927\n",
      "f1-score     0.887122    0.882645  0.884927    0.884884      0.884902\n",
      "support    311.000000  306.000000  0.884927  617.000000    617.000000\n",
      "_______________________________________________\n",
      "Confusion Matrix: \n",
      " [[279  32]\n",
      " [ 39 267]]\n",
      "\n",
      "\n",
      "================================================\n",
      "AOC value =  0.8848\n"
     ]
    }
   ],
   "source": [
    "from sklearn.ensemble import RandomForestClassifier\n",
    "\n",
    "rf_clf_bal = RandomForestClassifier(n_estimators=100)\n",
    "rf_clf_bal.fit(X_train_bal, y_train_bal)\n",
    "\n",
    "\n",
    "print(\"Details of the Random Forest classifier using balance dataset\\n ________________\")\n",
    "#print_score(rf_clf_bal, X_train_bal, y_train_bal, X_test, y_test, train=True)\n",
    "print_score(rf_clf_bal, X_train_bal, y_train_bal, X_test_bal, y_test_bal, train=False)\n",
    "\n",
    "y_pred_rf_bal = rf_clf_bal.predict(X_test_bal)\n",
    "y_pred_rf_bal_list = y_pred_rf_bal.tolist()\n",
    "\n",
    "print(\"\\n================================================\")\n",
    "print(\"AOC value = \", (np.round(roc_auc_score(y_test_bal, y_pred_rf_bal_list),4)))"
   ]
  },
  {
   "cell_type": "markdown",
   "id": "d9270ff8-a0b5-4987-8f2f-74fec8b55d72",
   "metadata": {
    "tags": []
   },
   "source": [
    "import shap\n",
    "\n",
    "shap.initjs()\n",
    "explainer = shap.TreeExplainer(rf_clf_bal)\n",
    "shap_values = explainer.shap_values(X_smote)\n",
    "\n",
    "shap.summary_plot(shap_values, X_smote)"
   ]
  },
  {
   "cell_type": "code",
   "execution_count": null,
   "id": "415e9a6a-a121-41db-aad4-bb1585906a0d",
   "metadata": {},
   "outputs": [],
   "source": []
  }
 ],
 "metadata": {
  "kernelspec": {
   "display_name": "Python 3 (ipykernel)",
   "language": "python",
   "name": "python3"
  },
  "language_info": {
   "codemirror_mode": {
    "name": "ipython",
    "version": 3
   },
   "file_extension": ".py",
   "mimetype": "text/x-python",
   "name": "python",
   "nbconvert_exporter": "python",
   "pygments_lexer": "ipython3",
   "version": "3.10.11"
  }
 },
 "nbformat": 4,
 "nbformat_minor": 5
}
